{
 "cells": [
  {
   "cell_type": "code",
   "execution_count": 3,
   "metadata": {},
   "outputs": [],
   "source": [
    "from openai import OpenAI\n",
    "import json\n",
    "from dotenv import load_dotenv, find_dotenv\n",
    "\n",
    "_ : bool = load_dotenv(find_dotenv()) # read local .env file"
   ]
  },
  {
   "cell_type": "code",
   "execution_count": 4,
   "metadata": {},
   "outputs": [],
   "source": [
    "client : OpenAI = OpenAI()"
   ]
  },
  {
   "cell_type": "code",
   "execution_count": 5,
   "metadata": {},
   "outputs": [],
   "source": [
    "\n",
    "\n",
    "def show_json(obj):\n",
    "    display(json.loads(obj.model_dump_json()))"
   ]
  },
  {
   "cell_type": "code",
   "execution_count": 6,
   "metadata": {},
   "outputs": [],
   "source": [
    "\n",
    "\n",
    "def show_dict(obj):\n",
    "    display(obj.model_dump())"
   ]
  },
  {
   "cell_type": "markdown",
   "metadata": {},
   "source": [
    "### Step 1: Create an Assistant"
   ]
  },
  {
   "cell_type": "code",
   "execution_count": 7,
   "metadata": {},
   "outputs": [
    {
     "data": {
      "text/plain": [
       "{'id': 'asst_cXFUQA0NxyXcNvxFhqWMSmBf',\n",
       " 'created_at': 1704797864,\n",
       " 'description': None,\n",
       " 'file_ids': [],\n",
       " 'instructions': 'You are a personal Travel Assistant. You should reply to user query about the asked location with few bullet points.',\n",
       " 'metadata': {},\n",
       " 'model': 'gpt-3.5-turbo-1106',\n",
       " 'name': 'Travel Assitant',\n",
       " 'object': 'assistant',\n",
       " 'tools': []}"
      ]
     },
     "metadata": {},
     "output_type": "display_data"
    },
    {
     "data": {
      "text/plain": [
       "{'id': 'asst_cXFUQA0NxyXcNvxFhqWMSmBf',\n",
       " 'created_at': 1704797864,\n",
       " 'description': None,\n",
       " 'file_ids': [],\n",
       " 'instructions': 'You are a personal Travel Assistant. You should reply to user query about the asked location with few bullet points.',\n",
       " 'metadata': {},\n",
       " 'model': 'gpt-3.5-turbo-1106',\n",
       " 'name': 'Travel Assitant',\n",
       " 'object': 'assistant',\n",
       " 'tools': []}"
      ]
     },
     "metadata": {},
     "output_type": "display_data"
    }
   ],
   "source": [
    "from openai.types.beta import Assistant\n",
    "\n",
    "assistant: Assistant = client.beta.assistants.create(\n",
    "    name=\"Travel Assitant\",\n",
    "    instructions=\"You are a personal Travel Assistant. You should reply to user query about the asked location with few bullet points.\",\n",
    "    #tools=[{\"type\": \"code_interpreter\"}],\n",
    "    model=\"gpt-3.5-turbo-1106\"\n",
    ")\n",
    "\n",
    "show_json(assistant)\n",
    "show_dict(assistant)"
   ]
  },
  {
   "cell_type": "markdown",
   "metadata": {},
   "source": [
    "### Step 2: Create a Thread"
   ]
  },
  {
   "cell_type": "code",
   "execution_count": 9,
   "metadata": {},
   "outputs": [],
   "source": [
    "from openai.types.beta.thread import Thread\n",
    "\n",
    "thread: Thread  = client.beta.threads.create()\n"
   ]
  },
  {
   "cell_type": "markdown",
   "metadata": {},
   "source": [
    "### Step 3: Add a Message to a Thread"
   ]
  },
  {
   "cell_type": "code",
   "execution_count": 10,
   "metadata": {},
   "outputs": [
    {
     "data": {
      "text/plain": [
       "{'id': 'msg_Wtb61A3kzt2tZdcXuxANckE8',\n",
       " 'assistant_id': None,\n",
       " 'content': [{'text': {'annotations': [],\n",
       "    'value': 'I need to travel to Paris,France. Can you give me five best places to visit in Paris?'},\n",
       "   'type': 'text'}],\n",
       " 'created_at': 1704797921,\n",
       " 'file_ids': [],\n",
       " 'metadata': {},\n",
       " 'object': 'thread.message',\n",
       " 'role': 'user',\n",
       " 'run_id': None,\n",
       " 'thread_id': 'thread_Kp9Fivej1MGWBqgD09HSsffT'}"
      ]
     },
     "metadata": {},
     "output_type": "display_data"
    }
   ],
   "source": [
    "from openai.types.beta.threads.thread_message import ThreadMessage\n",
    "\n",
    "message : ThreadMessage = client.beta.threads.messages.create(\n",
    "    thread_id=thread.id,\n",
    "    role=\"user\",\n",
    "    content=\"I need to travel to Paris,France. Can you give me five best places to visit in Paris?\"\n",
    ")\n",
    "\n",
    "show_json(message)"
   ]
  },
  {
   "cell_type": "markdown",
   "metadata": {},
   "source": [
    "### Step 4: Run the Assistant"
   ]
  },
  {
   "cell_type": "code",
   "execution_count": 11,
   "metadata": {},
   "outputs": [
    {
     "data": {
      "text/plain": [
       "{'id': 'run_Hv2Rf8Mv6LHDCKfjQRFsrwO6',\n",
       " 'assistant_id': 'asst_cXFUQA0NxyXcNvxFhqWMSmBf',\n",
       " 'cancelled_at': None,\n",
       " 'completed_at': None,\n",
       " 'created_at': 1704797932,\n",
       " 'expires_at': 1704798532,\n",
       " 'failed_at': None,\n",
       " 'file_ids': [],\n",
       " 'instructions': 'You are a personal Travel Assistant. You should reply to user query about the asked location with few bullet points.',\n",
       " 'last_error': None,\n",
       " 'metadata': {},\n",
       " 'model': 'gpt-3.5-turbo-1106',\n",
       " 'object': 'thread.run',\n",
       " 'required_action': None,\n",
       " 'started_at': None,\n",
       " 'status': 'queued',\n",
       " 'thread_id': 'thread_Kp9Fivej1MGWBqgD09HSsffT',\n",
       " 'tools': []}"
      ]
     },
     "metadata": {},
     "output_type": "display_data"
    }
   ],
   "source": [
    "from openai.types.beta.threads.run import Run\n",
    "\n",
    "run: Run = client.beta.threads.runs.create(\n",
    "  thread_id=thread.id,\n",
    "  assistant_id=assistant.id,\n",
    "  #instructions=\"Please address the user as Jane Doe. The user has a premium account.\"\n",
    ")\n",
    "\n",
    "show_json(run)\n"
   ]
  },
  {
   "cell_type": "markdown",
   "metadata": {},
   "source": [
    "### Step 5: Check the Run status"
   ]
  },
  {
   "cell_type": "code",
   "execution_count": 12,
   "metadata": {},
   "outputs": [
    {
     "data": {
      "text/plain": [
       "{'id': 'run_Hv2Rf8Mv6LHDCKfjQRFsrwO6',\n",
       " 'assistant_id': 'asst_cXFUQA0NxyXcNvxFhqWMSmBf',\n",
       " 'cancelled_at': None,\n",
       " 'completed_at': 1704797937,\n",
       " 'created_at': 1704797932,\n",
       " 'expires_at': None,\n",
       " 'failed_at': None,\n",
       " 'file_ids': [],\n",
       " 'instructions': 'You are a personal Travel Assistant. You should reply to user query about the asked location with few bullet points.',\n",
       " 'last_error': None,\n",
       " 'metadata': {},\n",
       " 'model': 'gpt-3.5-turbo-1106',\n",
       " 'object': 'thread.run',\n",
       " 'required_action': None,\n",
       " 'started_at': 1704797932,\n",
       " 'status': 'completed',\n",
       " 'thread_id': 'thread_Kp9Fivej1MGWBqgD09HSsffT',\n",
       " 'tools': []}"
      ]
     },
     "execution_count": 12,
     "metadata": {},
     "output_type": "execute_result"
    }
   ],
   "source": [
    "run: Run = client.beta.threads.runs.retrieve(\n",
    "  thread_id=thread.id,\n",
    "  run_id=run.id,\n",
    ")\n",
    "\n",
    "\n",
    "#show_dict(run)\n",
    "run.model_dump()"
   ]
  },
  {
   "cell_type": "markdown",
   "metadata": {},
   "source": [
    "### Step 6: Display the Assistant's Response"
   ]
  },
  {
   "cell_type": "code",
   "execution_count": 13,
   "metadata": {},
   "outputs": [
    {
     "data": {
      "text/plain": [
       "{'data': [{'id': 'msg_ZA0vATbPcL7eF79wIg2DCMtc',\n",
       "   'assistant_id': 'asst_cXFUQA0NxyXcNvxFhqWMSmBf',\n",
       "   'content': [{'text': {'annotations': [],\n",
       "      'value': '- Eiffel Tower: Iconic landmark with breathtaking views of the city\\n- Louvre Museum: Home to famous works of art including the Mona Lisa\\n- Notre-Dame Cathedral: Magnificent gothic architecture and history\\n- Montmartre: Charming district known for its artsy vibe and Sacré-Cœur Basilica\\n- Seine River: Enjoy a relaxing boat cruise and take in the city from a different perspective'},\n",
       "     'type': 'text'}],\n",
       "   'created_at': 1704797933,\n",
       "   'file_ids': [],\n",
       "   'metadata': {},\n",
       "   'object': 'thread.message',\n",
       "   'role': 'assistant',\n",
       "   'run_id': 'run_Hv2Rf8Mv6LHDCKfjQRFsrwO6',\n",
       "   'thread_id': 'thread_Kp9Fivej1MGWBqgD09HSsffT'},\n",
       "  {'id': 'msg_Wtb61A3kzt2tZdcXuxANckE8',\n",
       "   'assistant_id': None,\n",
       "   'content': [{'text': {'annotations': [],\n",
       "      'value': 'I need to travel to Paris,France. Can you give me five best places to visit in Paris?'},\n",
       "     'type': 'text'}],\n",
       "   'created_at': 1704797921,\n",
       "   'file_ids': [],\n",
       "   'metadata': {},\n",
       "   'object': 'thread.message',\n",
       "   'role': 'user',\n",
       "   'run_id': None,\n",
       "   'thread_id': 'thread_Kp9Fivej1MGWBqgD09HSsffT'}],\n",
       " 'object': 'list',\n",
       " 'first_id': 'msg_ZA0vATbPcL7eF79wIg2DCMtc',\n",
       " 'last_id': 'msg_Wtb61A3kzt2tZdcXuxANckE8',\n",
       " 'has_more': False}"
      ]
     },
     "metadata": {},
     "output_type": "display_data"
    },
    {
     "data": {
      "text/plain": [
       "{'id': 'msg_Wtb61A3kzt2tZdcXuxANckE8',\n",
       " 'assistant_id': None,\n",
       " 'content': [{'text': {'annotations': [],\n",
       "    'value': 'I need to travel to Paris,France. Can you give me five best places to visit in Paris?'},\n",
       "   'type': 'text'}],\n",
       " 'created_at': 1704797921,\n",
       " 'file_ids': [],\n",
       " 'metadata': {},\n",
       " 'object': 'thread.message',\n",
       " 'role': 'user',\n",
       " 'run_id': None,\n",
       " 'thread_id': 'thread_Kp9Fivej1MGWBqgD09HSsffT'}"
      ]
     },
     "metadata": {},
     "output_type": "display_data"
    },
    {
     "name": "stdout",
     "output_type": "stream",
     "text": [
      "user: I need to travel to Paris,France. Can you give me five best places to visit in Paris?\n",
      "assistant: - Eiffel Tower: Iconic landmark with breathtaking views of the city\n",
      "- Louvre Museum: Home to famous works of art including the Mona Lisa\n",
      "- Notre-Dame Cathedral: Magnificent gothic architecture and history\n",
      "- Montmartre: Charming district known for its artsy vibe and Sacré-Cœur Basilica\n",
      "- Seine River: Enjoy a relaxing boat cruise and take in the city from a different perspective\n"
     ]
    }
   ],
   "source": [
    "# from openai.resources.beta.threads.messages.messages import SyncCursorPage \n",
    "\n",
    "messages = client.beta.threads.messages.list(\n",
    "  thread_id=thread.id,\n",
    "  #order=\"asc\"\n",
    ")\n",
    "\n",
    "msg = client.beta.threads.messages.retrieve(\n",
    "  thread_id= thread.id,\n",
    "  message_id= message.id,\n",
    ")\n",
    "\n",
    "show_json(messages)\n",
    "show_json(msg)\n",
    "\n",
    "for m in reversed(messages.data):\n",
    "   print(m.role + \": \" + m.content[0].text.value)\n",
    "\n",
    "# for m in messages.data:\n",
    "#    print(m.role + \": \" + m.content[0].text.value)\n"
   ]
  }
 ],
 "metadata": {
  "kernelspec": {
   "display_name": "base",
   "language": "python",
   "name": "python3"
  },
  "language_info": {
   "codemirror_mode": {
    "name": "ipython",
    "version": 3
   },
   "file_extension": ".py",
   "mimetype": "text/x-python",
   "name": "python",
   "nbconvert_exporter": "python",
   "pygments_lexer": "ipython3",
   "version": "3.12.0"
  }
 },
 "nbformat": 4,
 "nbformat_minor": 2
}
